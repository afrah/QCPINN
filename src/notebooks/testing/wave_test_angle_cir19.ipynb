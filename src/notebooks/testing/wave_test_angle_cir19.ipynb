{
 "cells": [
  {
   "cell_type": "code",
   "execution_count": 8,
   "metadata": {},
   "outputs": [
    {
     "name": "stdout",
     "output_type": "stream",
     "text": [
      "The autoreload extension is already loaded. To reload it, use:\n",
      "  %reload_ext autoreload\n"
     ]
    }
   ],
   "source": [
    "%load_ext autoreload\n",
    "%autoreload 2"
   ]
  },
  {
   "cell_type": "code",
   "execution_count": null,
   "metadata": {},
   "outputs": [],
   "source": [
    "import numpy as np\n",
    "import os\n",
    "import sys\n",
    "import pennylane as qml\n",
    "from pennylane import numpy as pnp\n",
    "import torch\n",
    "import torch.nn as nn\n",
    "import matplotlib\n",
    "import shutil\n",
    "import matplotlib.pyplot as plt\n",
    "from math import pi"
   ]
  },
  {
   "cell_type": "code",
   "execution_count": null,
   "metadata": {},
   "outputs": [],
   "source": [
    "from src.nn.DVPDESolver import DVPDESolver\n",
    "from src.nn.CVPDESolver import CVPDESolver\n",
    "from src.utils.logger import Logging\n",
    "from src.nn.pde import wave_operator\n",
    "from src.utils.plot_prediction import plt_prediction\n",
    "from src.data.wave_dataset import u, r\n",
    "from src.data.wave_dataset import Sampler"
   ]
  },
  {
   "cell_type": "code",
   "execution_count": 11,
   "metadata": {},
   "outputs": [],
   "source": [
    "log_path = \"./testing_checkpoints\"\n",
    "logger = Logging(log_path)\n",
    "DEVICE = torch.device(\"cuda\" if torch.cuda.is_available() else \"cpu\")"
   ]
  },
  {
   "cell_type": "code",
   "execution_count": 12,
   "metadata": {},
   "outputs": [
    {
     "data": {
      "text/plain": [
       "True"
      ]
     },
     "execution_count": 12,
     "metadata": {},
     "output_type": "execute_result"
    }
   ],
   "source": [
    "torch.cuda.is_available()"
   ]
  },
  {
   "cell_type": "markdown",
   "metadata": {},
   "source": [
    "## Generate Testing Dataset\n"
   ]
  },
  {
   "cell_type": "code",
   "execution_count": null,
   "metadata": {},
   "outputs": [],
   "source": [
    "a = torch.tensor(0.5, dtype=torch.float32, device=DEVICE)\n",
    "c = torch.tensor(2.0, dtype=torch.float32, device=DEVICE)\n",
    "\n",
    "# Domain boundaries - convert to float32\n",
    "ics_coords = np.array([[0.0, 0.0], [0.0, 1.0]], dtype=np.float32)\n",
    "bc1_coords = np.array([[0.0, 0.0], [1.0, 0.0]], dtype=np.float32)\n",
    "bc2_coords = np.array([[0.0, 1.0], [1.0, 1.0]], dtype=np.float32)\n",
    "dom_coords = np.array([[0.0, 0.0], [1.0, 1.0]], dtype=np.float32)\n",
    "\n",
    "# Create initial conditions samplers\n",
    "ics_sampler = Sampler(2, ics_coords, lambda x: u(x, a, c), device=DEVICE)\n",
    "\n",
    "# Create boundary conditions samplers\n",
    "bc1 = Sampler(2, bc1_coords, lambda x: u(x, a, c), device=DEVICE)\n",
    "bc2 = Sampler(2, bc2_coords, lambda x: u(x, a, c), device=DEVICE)\n",
    "bcs_sampler = [bc1, bc2]\n",
    "\n",
    "# Create residual sampler\n",
    "res_sampler = Sampler(2, dom_coords, lambda x: r(x, a, c), device=DEVICE)\n",
    "coll_sampler = Sampler(2, dom_coords, lambda x: u(x, a, c), device=DEVICE)\n",
    "\n",
    "# Create mesh grid with float32\n",
    "nn = 30\n",
    "t = np.linspace(dom_coords[0, 0], dom_coords[1, 0], nn, dtype=np.float32)[:, None]\n",
    "x = np.linspace(dom_coords[0, 1], dom_coords[1, 1], nn, dtype=np.float32)[:, None]\n",
    "t, x = np.meshgrid(t, x)\n",
    "\n",
    "# Convert to PyTorch tensor with float32\n",
    "X_star = (\n",
    "    torch.hstack(\n",
    "        (torch.from_numpy(t.flatten()[:, None]), torch.from_numpy(x.flatten()[:, None]))\n",
    "    )\n",
    "    .to(DEVICE)\n",
    "    .to(torch.float32)\n",
    ")\n",
    "\n",
    "\n",
    "u_star = u(X_star, a, c)\n",
    "f_star = r(X_star, a, c)"
   ]
  },
  {
   "cell_type": "markdown",
   "metadata": {},
   "source": [
    "# Load trained model\n"
   ]
  },
  {
   "cell_type": "code",
   "execution_count": null,
   "metadata": {},
   "outputs": [],
   "source": [
    "model_dir = \"./models/2025-02-21_11-27-26-796633\"  # circ_19"
   ]
  },
  {
   "cell_type": "code",
   "execution_count": null,
   "metadata": {},
   "outputs": [
    {
     "name": "stderr",
     "output_type": "stream",
     "text": [
      "INFO:src.utils.logger:The settings used: {'batch_size': 64, 'epochs': 20000, 'lr': 0.0001, 'seed': 1, 'print_every': 100, 'log_path': './checkpoints/wave', 'input_dim': 2, 'output_dim': 1, 'num_qubits': 5, 'hidden_dim': 50, 'num_quantum_layers': 1, 'classic_network': [2, 50, 1], 'q_ansatz': 'sim_circ_19', 'mode': 'hybrid', 'activation': 'tanh', 'shots': None, 'problem': 'wave', 'solver': 'DV', 'device': 'cpu', 'method': 'None', 'cutoff_dim': 20, 'class': 'DV', 'encoding': 'angle'}\n",
      "INFO:src.utils.logger:batch_size : 64\n",
      "INFO:src.utils.logger:epochs : 20000\n",
      "INFO:src.utils.logger:lr : 0.0001\n",
      "INFO:src.utils.logger:seed : 1\n",
      "INFO:src.utils.logger:print_every : 100\n",
      "INFO:src.utils.logger:log_path : ./checkpoints/wave\n",
      "INFO:src.utils.logger:input_dim : 2\n",
      "INFO:src.utils.logger:output_dim : 1\n",
      "INFO:src.utils.logger:num_qubits : 5\n",
      "INFO:src.utils.logger:hidden_dim : 50\n",
      "INFO:src.utils.logger:num_quantum_layers : 1\n",
      "INFO:src.utils.logger:classic_network : [2, 50, 1]\n",
      "INFO:src.utils.logger:q_ansatz : sim_circ_19\n",
      "INFO:src.utils.logger:mode : hybrid\n",
      "INFO:src.utils.logger:activation : tanh\n",
      "INFO:src.utils.logger:shots : None\n",
      "INFO:src.utils.logger:problem : wave\n",
      "INFO:src.utils.logger:solver : DV\n",
      "INFO:src.utils.logger:device : cpu\n",
      "INFO:src.utils.logger:method : None\n",
      "INFO:src.utils.logger:cutoff_dim : 20\n",
      "INFO:src.utils.logger:class : DV\n",
      "INFO:src.utils.logger:encoding : angle\n",
      "INFO:src.utils.logger:Totoal number of iterations : 20001\n",
      "INFO:src.utils.logger:The final loss : 0.12525874376296997\n",
      "INFO:src.utils.logger:Total number of parameters: 771\n"
     ]
    },
    {
     "name": "stdout",
     "output_type": "stream",
     "text": [
      "Model state loaded from ./models/2025-02-21_11-27-26-796633/model.pth\n",
      "Model state loaded from ./models/2025-02-21_11-27-26-796633/model.pth\n"
     ]
    },
    {
     "data": {
      "text/plain": [
       "'./testing_checkpoints/2025-04-26_12-14-38-378284/2025-02-21_11-27-26-796633'"
      ]
     },
     "execution_count": 18,
     "metadata": {},
     "output_type": "execute_result"
    }
   ],
   "source": [
    "data = X_star\n",
    "\n",
    "model_path = os.path.join(model_dir, \"model.pth\")\n",
    "state = DVPDESolver.load_state(model_path)\n",
    "solver = state[\"args\"][\"solver\"]\n",
    "\n",
    "if solver == \"CV\":\n",
    "    state = CVPDESolver.load_state(model_path)\n",
    "    model = CVPDESolver(state[\"args\"], logger, data, DEVICE)\n",
    "\n",
    "    model.preprocessor.load_state_dict(state[\"preprocessor\"])\n",
    "    model.quantum_layer.load_state_dict(state[\"quantum_layer\"])\n",
    "    model.postprocessor.load_state_dict(state[\"postprocessor\"])\n",
    "\n",
    "elif solver == \"Classical\":\n",
    "    state = ClassicalSolver.load_state(model_path)\n",
    "\n",
    "    if \"hidden_network\" in state:\n",
    "        from src.nn.ClassicalSolver2 import ClassicalSolver2\n",
    "\n",
    "        state = ClassicalSolver2.load_state(model_path)\n",
    "        model = ClassicalSolver2(state[\"args\"], logger, data, DEVICE)\n",
    "        model.preprocessor.load_state_dict(state[\"preprocessor\"])\n",
    "        model.hidden.load_state_dict(state[\"hidden_network\"])\n",
    "        model.postprocessor.load_state_dict(state[\"postprocessor\"])\n",
    "\n",
    "    else:\n",
    "        from src.nn.ClassicalSolver import ClassicalSolver\n",
    "\n",
    "        model = ClassicalSolver(state[\"args\"], logger, data, DEVICE)\n",
    "        model.preprocessor.load_state_dict(state[\"preprocessor\"])\n",
    "        model.postprocessor.load_state_dict(state[\"postprocessor\"])\n",
    "\n",
    "else:\n",
    "    state = DVPDESolver.load_state(model_path)\n",
    "    model = DVPDESolver(state[\"args\"], logger, data, DEVICE)\n",
    "    model.preprocessor.load_state_dict(state[\"preprocessor\"])\n",
    "    model.postprocessor.load_state_dict(state[\"postprocessor\"])\n",
    "    model.quantum_layer.load_state_dict(state[\"quantum_layer\"])\n",
    "\n",
    "\n",
    "model.logger = logger\n",
    "model.logger.print(f\"The settings used: {model.args}\")\n",
    "for key, value in model.args.items():\n",
    "    model.logger.print(f\"{key} : {value}\")\n",
    "\n",
    "model.logger.print(f\"Totoal number of iterations : {len(state['loss_history'])}\")\n",
    "model.logger.print(f\"The final loss : {state['loss_history'][-1]}\")\n",
    "\n",
    "model.loss_history = state[\"loss_history\"]\n",
    "model.model_path = logger.get_output_dir()\n",
    "\n",
    "\n",
    "# Print total number of parameters\n",
    "total_params = sum(p.numel() for p in model.parameters())\n",
    "model.logger.print(f\"Total number of parameters: {total_params}\")\n",
    "shutil.copytree(\n",
    "    model_dir,\n",
    "    os.path.join(logger.get_output_dir(), model_dir.split(\"/\")[-1]),\n",
    "    dirs_exist_ok=True,\n",
    ")"
   ]
  },
  {
   "cell_type": "code",
   "execution_count": 19,
   "metadata": {},
   "outputs": [
    {
     "data": {
      "image/png": "[encoded data removed]",
      "text/plain": [
       "<Figure size 640x480 with 1 Axes>"
      ]
     },
     "metadata": {},
     "output_type": "display_data"
    }
   ],
   "source": [
    "n = len(model.loss_history)  # Number of last iterations to plot\n",
    "plt.plot(range(len(model.loss_history[-n:])), model.loss_history[-n:])\n",
    "plt.xlabel(\"Iterations\")\n",
    "plt.ylabel(\"Loss\")\n",
    "plt.title(\"Training Loss Over Epochs\")\n",
    "plt.grid()\n",
    "\n",
    "file_path = os.path.join(model.log_path, \"loss_history.pdf\")\n",
    "plt.savefig(file_path, bbox_inches=\"tight\")\n",
    "plt.show()\n",
    "\n",
    "plt.close(\n",
    "    \"all\",\n",
    ")"
   ]
  },
  {
   "cell_type": "code",
   "execution_count": null,
   "metadata": {},
   "outputs": [
    {
     "name": "stderr",
     "output_type": "stream",
     "text": [
      "INFO:src.utils.logger:The circuit used in the study:\n"
     ]
    },
    {
     "name": "stdout",
     "output_type": "stream",
     "text": [
      "The circuit is saved in ./testing_checkpoints/2025-04-26_12-14-38-378284\n"
     ]
    }
   ],
   "source": [
    "# Predictions\n",
    "u_pred_star, f_pred_star = wave_operator(model, X_star[:, 0:1], X_star[:, 1:2])\n",
    "\n",
    "u_pred = u_pred_star.cpu().detach().numpy()\n",
    "f_pred = f_pred_star.cpu().detach().numpy()\n",
    "u_star = u_star.cpu().detach().numpy()\n",
    "f_star = f_star.cpu().detach().numpy()\n",
    "X = X_star.cpu().detach().numpy()\n",
    "\n",
    "\n",
    "# Relative L2 error\n",
    "error_u = np.linalg.norm(u_pred - u_star) / np.linalg.norm(u_star) * 100\n",
    "error_f = np.linalg.norm(f_pred - f_star) / np.linalg.norm(f_star) * 100\n",
    "\n",
    "logger.print(\"Relative L2 error_u: {:.2e}\".format(error_u))\n",
    "logger.print(\"Relative L2 error_f: {:.2e}\".format(error_f))"
   ]
  },
  {
   "cell_type": "code",
   "execution_count": null,
   "metadata": {},
   "outputs": [],
   "source": [
    "# Plot predictions\n",
    "plt_prediction(\n",
    "    logger,\n",
    "    X,\n",
    "    u_star,\n",
    "    u_pred,\n",
    "    f_star,\n",
    "    f_pred,\n",
    ")"
   ]
  },
  {
   "cell_type": "markdown",
   "metadata": {},
   "source": [
    "### OR Simply call the python script\n",
    "\n",
    "```bash\n",
    "python -m src.contour_plots.wave_hybrid_plotting\n",
    "```\n"
   ]
  },
  {
   "cell_type": "code",
   "execution_count": null,
   "metadata": {},
   "outputs": [
    {
     "name": "stderr",
     "output_type": "stream",
     "text": [
      "INFO:src.utils.logger:checkpoint path: self.log_path='testing_checkpoints/wave/2025-03-08_00-42-48-247745'\n",
      "INFO:src.utils.logger:Using classical Solver\n",
      "INFO:src.utils.logger:Total number of iterations : 20001\n",
      "INFO:src.utils.logger:The final loss : 0.035788170993328094\n",
      "INFO:src.utils.logger:Relative L2 error_u: 8.37e+00\n"
     ]
    },
    {
     "name": "stderr",
     "output_type": "stream",
     "text": [
      "INFO:src.utils.logger:Total number of parameters: 2751\n",
      "INFO:src.utils.logger:Using DV Solver\n",
      "INFO:src.utils.logger:Total number of iterations : 20001\n",
      "INFO:src.utils.logger:The final loss : 0.12525874376296997\n",
      "INFO:src.utils.logger:The circuit used in the study:\n"
     ]
    },
    {
     "name": "stdout",
     "output_type": "stream",
     "text": [
      "Model state loaded from /okyanus/users/afarea/afrah/code/QNN4PDEs/log_files/checkpoints/wave/2025-02-24_20-00-46-837506/model.pth\n",
      "Model state loaded from /okyanus/users/afarea/afrah/code/QNN4PDEs/log_files/checkpoints/wave/2025-02-21_11-27-26-796633/model.pth\n",
      "The circuit is saved in testing_checkpoints/wave/2025-03-08_00-42-48-247745\n"
     ]
    }
   ],
   "source": [
    "run -m src.contour_plots.wave_hybrid_plotting"
   ]
  },
  {
   "cell_type": "code",
   "execution_count": null,
   "metadata": {},
   "outputs": [],
   "source": []
  }
 ],
 "metadata": {
  "kernelspec": {
   "display_name": "QCPINN",
   "language": "python",
   "name": "python3"
  },
  "language_info": {
   "codemirror_mode": {
    "name": "ipython",
    "version": 3
   },
   "file_extension": ".py",
   "mimetype": "text/x-python",
   "name": "python",
   "nbconvert_exporter": "python",
   "pygments_lexer": "ipython3",
   "version": "3.9.21"
  }
 },
 "nbformat": 4,
 "nbformat_minor": 2
}
